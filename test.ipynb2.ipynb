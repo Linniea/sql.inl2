{
 "cells": [
  {
   "cell_type": "code",
   "execution_count": null,
   "metadata": {},
   "outputs": [],
   "source": [
    "1.\tBeskriv kort hur en relationsdatabas fungerar.\n",
    "    En relationsdatabas fungerar genom att information är organiserad i tabeller som består av kolumner vilket kallas för normalisering. Varje rad innehåller en unik nyckel som kopplar ihop tabeller för att upprätta en relation. Denna nyckeln används när en relationsdatabas efterfrågas genom att hitta relaterad data mellan datamängder. \n",
    "\t \n",
    "2. Vad menas med “CRUD”-flödet?\n",
    "    CRUD står för Create, Read, Uodate och Delete. De är de grundläggande operationerna som användas på data I en databas. Create: lägger till rader i en tabell. Read: läser ut data från en tabell. Update: uppdaterar existerande data I en tabell. Delete: tar bort rader från en tabell.\n",
    "\n",
    "3. Beskriv kort vad en “left join” och en “inner join” är. Varför använder man det?\n",
    "    Inner join returnerar poster som har likadana värden i båda tabellerna.\n",
    "    Left join returnerar alla poster från den vänstra tabellen och de matchande posterna från den högra tabellen .\n",
    " \n",
    "4. Beskriv kort vad indexering i SQL innebär.\n",
    "    Indexering inom SQL är en datastruktur som lagras i databasen och fungerar ungefär som ett register i en bok där man snabbt kan slå upp det man söker efter. \n",
    "\n",
    "5. Beskriv kort vad en vy i SQL är.\n",
    "    En vy är en sparad fråga eller virtuellt fönster som man kan använda som en tabell. Vyn lagrar ingen data, istället hämtar den data från de underliggande tabellerna varje gång man använder den. \n",
    "\t\n",
    "6. Beskriv kort vad en lagrad procedur i SQL är.\n",
    "    En lagrad procedur är en sparad uppsättning SQL-kod som kan köras flera gånger och kan innehålla frågor, logik och kommandon. Det fungerar som ett program/ funktion som lagras I databasen och körs när man anropar den. \n",
    "\n",
    "\n"
   ]
  },
  {
   "cell_type": "code",
   "execution_count": 73,
   "metadata": {},
   "outputs": [
    {
     "name": "stdout",
     "output_type": "stream",
     "text": [
      "Requirement already satisfied: sqlalchemy in c:\\users\\tomlien\\appdata\\local\\programs\\python\\python311\\lib\\site-packages (2.0.36)\n",
      "Requirement already satisfied: typing-extensions>=4.6.0 in c:\\users\\tomlien\\appdata\\roaming\\python\\python311\\site-packages (from sqlalchemy) (4.12.2)\n",
      "Requirement already satisfied: greenlet!=0.4.17 in c:\\users\\tomlien\\appdata\\local\\programs\\python\\python311\\lib\\site-packages (from sqlalchemy) (3.1.1)\n"
     ]
    },
    {
     "name": "stderr",
     "output_type": "stream",
     "text": [
      "\n",
      "[notice] A new release of pip available: 22.3.1 -> 25.0.1\n",
      "[notice] To update, run: python.exe -m pip install --upgrade pip\n"
     ]
    },
    {
     "name": "stdout",
     "output_type": "stream",
     "text": [
      "Requirement already satisfied: pyodbc in c:\\users\\tomlien\\appdata\\local\\programs\\python\\python311\\lib\\site-packages (5.2.0)\n"
     ]
    },
    {
     "name": "stderr",
     "output_type": "stream",
     "text": [
      "\n",
      "[notice] A new release of pip available: 22.3.1 -> 25.0.1\n",
      "[notice] To update, run: python.exe -m pip install --upgrade pip\n"
     ]
    },
    {
     "name": "stdout",
     "output_type": "stream",
     "text": [
      "Requirement already satisfied: pandas in c:\\users\\tomlien\\appdata\\local\\programs\\python\\python311\\lib\\site-packages (2.2.3)"
     ]
    },
    {
     "name": "stderr",
     "output_type": "stream",
     "text": [
      "\n",
      "[notice] A new release of pip available: 22.3.1 -> 25.0.1\n",
      "[notice] To update, run: python.exe -m pip install --upgrade pip\n"
     ]
    },
    {
     "name": "stdout",
     "output_type": "stream",
     "text": [
      "\n",
      "Requirement already satisfied: numpy>=1.23.2 in c:\\users\\tomlien\\appdata\\local\\programs\\python\\python311\\lib\\site-packages (from pandas) (2.1.2)\n",
      "Requirement already satisfied: python-dateutil>=2.8.2 in c:\\users\\tomlien\\appdata\\roaming\\python\\python311\\site-packages (from pandas) (2.9.0.post0)\n",
      "Requirement already satisfied: pytz>=2020.1 in c:\\users\\tomlien\\appdata\\local\\programs\\python\\python311\\lib\\site-packages (from pandas) (2024.2)\n",
      "Requirement already satisfied: tzdata>=2022.7 in c:\\users\\tomlien\\appdata\\local\\programs\\python\\python311\\lib\\site-packages (from pandas) (2024.2)\n",
      "Requirement already satisfied: six>=1.5 in c:\\users\\tomlien\\appdata\\roaming\\python\\python311\\site-packages (from python-dateutil>=2.8.2->pandas) (1.16.0)\n"
     ]
    }
   ],
   "source": [
    "! pip install sqlalchemy\n",
    "! pip install pyodbc\n",
    "! pip install pandas\n"
   ]
  },
  {
   "cell_type": "code",
   "execution_count": 74,
   "metadata": {},
   "outputs": [
    {
     "name": "stdout",
     "output_type": "stream",
     "text": [
      "Requirement already satisfied: scipy in c:\\users\\tomlien\\appdata\\local\\programs\\python\\python311\\lib\\site-packages (1.15.1)\n",
      "Requirement already satisfied: numpy<2.5,>=1.23.5 in c:\\users\\tomlien\\appdata\\local\\programs\\python\\python311\\lib\\site-packages (from scipy) (2.1.2)\n"
     ]
    },
    {
     "name": "stderr",
     "output_type": "stream",
     "text": [
      "\n",
      "[notice] A new release of pip available: 22.3.1 -> 25.0.1\n",
      "[notice] To update, run: python.exe -m pip install --upgrade pip\n"
     ]
    }
   ],
   "source": [
    "! pip install scipy"
   ]
  },
  {
   "cell_type": "code",
   "execution_count": 1,
   "metadata": {},
   "outputs": [],
   "source": [
    "from sqlalchemy import create_engine, URL, inspect\n",
    "import pandas as pd\n",
    "import pyodbc\n",
    "import numpy as np"
   ]
  },
  {
   "cell_type": "code",
   "execution_count": 76,
   "metadata": {},
   "outputs": [],
   "source": [
    "SERVER = 'localhost' # localhost innebär att du ansluter till en server på din egen dator\n",
    "DATABASE = 'AdventureWorks2022'\n",
    "\n",
    "connection_string = f'DRIVER={{ODBC Driver 18 for SQL Server}};SERVER={SERVER};DATABASE={DATABASE};Trusted_Connection=yes;Encrypt=no'\n",
    "\n",
    "connection_url = URL.create('mssql+pyodbc', query={'odbc_connect': connection_string})\n",
    "\n",
    "engine = create_engine(connection_url)  # engine är anslutningsobjektet vi använder för att kommunicera med databasen.\n"
   ]
  },
  {
   "cell_type": "code",
   "execution_count": 77,
   "metadata": {},
   "outputs": [
    {
     "name": "stdout",
     "output_type": "stream",
     "text": [
      "<class 'sqlalchemy.engine.base.Engine'>\n"
     ]
    }
   ],
   "source": [
    "print(type(engine))"
   ]
  },
  {
   "cell_type": "code",
   "execution_count": 78,
   "metadata": {},
   "outputs": [],
   "source": [
    "connection = engine.connect()"
   ]
  },
  {
   "cell_type": "code",
   "execution_count": 79,
   "metadata": {},
   "outputs": [
    {
     "name": "stdout",
     "output_type": "stream",
     "text": [
      "<class 'sqlalchemy.engine.base.Connection'>\n"
     ]
    }
   ],
   "source": [
    "print(type(connection))"
   ]
  },
  {
   "cell_type": "code",
   "execution_count": 80,
   "metadata": {},
   "outputs": [
    {
     "name": "stdout",
     "output_type": "stream",
     "text": [
      "   BusinessEntityID                            Name  SalesPersonID  \\\n",
      "0               292            Next-Door Bike Store            279   \n",
      "1               294  Professional Sales and Service            276   \n",
      "2               296                  Riders Company            277   \n",
      "3               298              The Bike Mechanics            275   \n",
      "4               300               Nationwide Supply            286   \n",
      "5               302           Area Bike Accessories            281   \n",
      "6               304    Bicycle Accessories and Kits            283   \n",
      "7               306           Clamps & Brackets Co.            275   \n",
      "8               308      Valley Bicycle Specialists            277   \n",
      "9               310               New Bikes Company            279   \n",
      "\n",
      "                                        Demographics  \\\n",
      "0  <StoreSurvey xmlns=\"http://schemas.microsoft.c...   \n",
      "1  <StoreSurvey xmlns=\"http://schemas.microsoft.c...   \n",
      "2  <StoreSurvey xmlns=\"http://schemas.microsoft.c...   \n",
      "3  <StoreSurvey xmlns=\"http://schemas.microsoft.c...   \n",
      "4  <StoreSurvey xmlns=\"http://schemas.microsoft.c...   \n",
      "5  <StoreSurvey xmlns=\"http://schemas.microsoft.c...   \n",
      "6  <StoreSurvey xmlns=\"http://schemas.microsoft.c...   \n",
      "7  <StoreSurvey xmlns=\"http://schemas.microsoft.c...   \n",
      "8  <StoreSurvey xmlns=\"http://schemas.microsoft.c...   \n",
      "9  <StoreSurvey xmlns=\"http://schemas.microsoft.c...   \n",
      "\n",
      "                                rowguid            ModifiedDate  \n",
      "0  A22517E3-848D-4EBE-B9D9-7437F3432304 2014-09-12 11:15:07.497  \n",
      "1  B50CA50B-C601-4A13-B07E-2C63862D71B4 2014-09-12 11:15:07.497  \n",
      "2  337C3688-1339-4E1A-A08A-B54B23566E49 2014-09-12 11:15:07.497  \n",
      "3  7894F278-F0C8-4D16-BD75-213FDBF13023 2014-09-12 11:15:07.497  \n",
      "4  C3FC9705-A8C4-4F3A-9550-EB2FA4B7B64D 2014-09-12 11:15:07.497  \n",
      "5  368BE6DD-30E5-49BB-9A86-71FD49C58F4E 2014-09-12 11:15:07.497  \n",
      "6  35F40636-5105-49D5-869E-27E231189150 2014-09-12 11:15:07.497  \n",
      "7  64D06BFC-D060-405C-8C60-C067FE7C67DF 2014-09-12 11:15:07.497  \n",
      "8  59386B0C-652E-4668-B44B-4E1711793330 2014-09-12 11:15:07.497  \n",
      "9  47E4B6BD-5CD1-45A3-A231-79D930381C56 2014-09-12 11:15:07.497  \n"
     ]
    }
   ],
   "source": [
    "# Kontrollerar att man kan ansluta genom att hämta de 10 första raderna i Sales.Store\n",
    "query = \"SELECT TOP 10 * FROM Sales.Store\"\n",
    "df = pd.read_sql(query, connection)\n",
    "\n",
    "# Printa de 10 första raderna\n",
    "print(df.head(10))\n"
   ]
  },
  {
   "cell_type": "code",
   "execution_count": 81,
   "metadata": {},
   "outputs": [
    {
     "name": "stdout",
     "output_type": "stream",
     "text": [
      "   Year  TotalOrders    TotalSales\n",
      "0  2011         1607  1.415570e+07\n",
      "1  2012         3915  3.767570e+07\n",
      "2  2013        14182  4.896589e+07\n",
      "3  2014        11761  2.241950e+07\n"
     ]
    }
   ],
   "source": [
    "# Hämta data för total försäljning per år\n",
    "query = \"\"\"\n",
    "SELECT YEAR(OrderDate) AS Year, COUNT(*) AS TotalOrders, SUM(TotalDue) AS TotalSales\n",
    "FROM Sales.SalesOrderHeader\n",
    "GROUP BY YEAR(OrderDate)\n",
    "ORDER BY Year;\n",
    "\"\"\"\n",
    "\n",
    "df_sales = pd.read_sql(query, connection)\n",
    "\n",
    "# Visa resultatet på antalet beställningar och summan för de totala försäljningarna för de 4 unika åren \n",
    "print(df_sales.head(4))\n"
   ]
  },
  {
   "cell_type": "code",
   "execution_count": 82,
   "metadata": {},
   "outputs": [
    {
     "data": {
      "image/png": "[encoded data removed]",
      "text/plain": [
       "<Figure size 1000x600 with 1 Axes>"
      ]
     },
     "metadata": {},
     "output_type": "display_data"
    }
   ],
   "source": [
    "import matplotlib.pyplot as plt  # Vi importerar biblioteket för att skapa diagram\n",
    "\n",
    "# Skapa ett stapeldiagram för total försäljning per år\n",
    "plt.figure(figsize=(10,6))  # Bestämmer storleken på diagrammet\n",
    "plt.bar(df_sales['Year'], df_sales['TotalSales'], color='pink')  # Skapar staplarna för varje år\n",
    "plt.title('Total Försäljning per År')  # Titeln på diagrammet\n",
    "plt.xlabel('År')  # Etikett för X-axeln\n",
    "plt.ylabel('Total Försäljning')  # Etikett för Y-axeln\n",
    "plt.xticks(rotation=45)  # Luta x-axelns etiketter för att göra dem lättare att läsa\n",
    "plt.tight_layout()  # Gör att diagrammet får plats ordentligt på skärmen\n",
    "plt.show()  # Visar diagrammet\n",
    "\n"
   ]
  },
  {
   "cell_type": "code",
   "execution_count": 83,
   "metadata": {},
   "outputs": [
    {
     "name": "stdout",
     "output_type": "stream",
     "text": [
      "Medelvärdet av total försäljning per år: 30,804,196.53\n",
      "95% konfidensintervall: (15,574,588.84, 46,033,804.22)\n"
     ]
    }
   ],
   "source": [
    "import scipy.stats as stats\n",
    "\n",
    "# Beräkna medelvärdet och standardavvikelsen för total försäljning per år\n",
    "mean_sales = df_sales['TotalSales'].mean()  # Medelvärde\n",
    "std_sales = df_sales['TotalSales'].std()    # Standardavvikelse\n",
    "n = len(df_sales)  # Antal observationer (antal år)\n",
    "\n",
    "# Beräkna konfidensintervall för medelvärdet (95% konfidensintervall)\n",
    "confidence_level = 0.95\n",
    "z_score = stats.norm.ppf(1 - (1 - confidence_level) / 2)  # Z-värde för 95% konfidensintervall\n",
    "margin_of_error = z_score * (std_sales / np.sqrt(n))  # Marginalen för fel\n",
    "\n",
    "# Konfidensintervall\n",
    "confidence_interval = (mean_sales - margin_of_error, mean_sales + margin_of_error)\n",
    "\n",
    "print(f\"Medelvärdet av total försäljning per år: {mean_sales:,.2f}\")\n",
    "print(f\"95% konfidensintervall: ({confidence_interval[0]:,.2f}, {confidence_interval[1]:,.2f})\")\n"
   ]
  },
  {
   "cell_type": "code",
   "execution_count": null,
   "metadata": {},
   "outputs": [],
   "source": [
    "Executive Summary\n",
    "\n",
    "I den här analysen har jag undersökt AdventureWorks2022-databasen med hjälp av SQL för att få en bättre förståelse för försäljningen och butikerna i företaget. Jag började med att hämta de tio första raderna från två viktiga tabeller: en som innehåller information om butiker och en som visar försäljningsordrar. Det gav mig en snabb överblick över hur datan är uppbyggd.\n",
    "Sedan räknade jag hur många butiker som finns i databasen och hur många försäljningsordrar som har registrerats. Detta hjälpte mig att förstå hur stort datasetet är. För att analysera försäljningstrender skrev jag en fråga som grupperar försäljningsdata per år. På så sätt kunde jag se hur många ordrar som gjordes varje år och hur mycket pengar företaget tjänade.\n",
    "Resultaten visade att försäljningen har förändrats över tid. Detta kan bero på olika saker, som marknadsföring, kundbeteenden eller vilka produkter som sålts mest. Utifrån analysen kan det vara bra för företaget att fokusera på att behålla sina kunder, hitta de mest populära produkterna och anpassa priserna för att öka försäljningen.\n",
    "Sammanfattningsvis har jag lärt mig att SQL är ett kraftfullt verktyg för att analysera stora mängder data och hitta viktiga mönster. Genom att titta på försäljningssiffror över tid kan företag ta bättre beslut för framtiden."
   ]
  },
  {
   "cell_type": "code",
   "execution_count": null,
   "metadata": {},
   "outputs": [],
   "source": [
    "Utmaningar och hur jag hanterade dem\n",
    "\n",
    "Under arbetet med denna uppgift stötte jag på flera utmaningar. En av de största var att förstå hur jag skulle börja då det var väldigt mycket information från AdventureWorks2022. \n",
    "Men även vilka queries jag skulle använda för att få fram rätt information. I början kändes det svårt att veta vilka tabeller jag skulle använda och hur jag skulle koppla samman data. \n",
    "Jag löste detta genom att läsa dokumentationen för AdventureWorks2022, testa olika frågor och felsöka när något inte fungerade. \n",
    "\n",
    "Vilket betyg jag anser att jag förtjänar och varför\n",
    "Jag tycker att jag förtjänar godkänt då jag har följt alla instruktioner i uppgiften. \n",
    "\n",
    "Tips till mig själv i början av kursen\n",
    "Om jag kunde ge ett råd till mig själv när jag började kursen, skulle det vara att inte stressa över att förstå allt direkt. SQL och dataanalys kan kännas svårt i början, men genom att testa sig fram och våga experimentera lär man sig mer än man tror, än undvika att göra det helt.\n",
    "Jag skulle också ha börjat övat mer på Datacamp. "
   ]
  },
  {
   "cell_type": "markdown",
   "metadata": {},
   "source": []
  }
 ],
 "metadata": {
  "kernelspec": {
   "display_name": "Python 3",
   "language": "python",
   "name": "python3"
  },
  "language_info": {
   "codemirror_mode": {
    "name": "ipython",
    "version": 3
   },
   "file_extension": ".py",
   "mimetype": "text/x-python",
   "name": "python",
   "nbconvert_exporter": "python",
   "pygments_lexer": "ipython3",
   "version": "3.11.2"
  }
 },
 "nbformat": 4,
 "nbformat_minor": 2
}
